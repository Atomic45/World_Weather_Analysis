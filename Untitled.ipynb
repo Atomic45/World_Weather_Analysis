{
 "cells": [
  {
   "cell_type": "code",
   "execution_count": 1,
   "id": "c0fad4fe",
   "metadata": {},
   "outputs": [
    {
     "name": "stdout",
     "output_type": "stream",
     "text": [
      "Requirement already satisfied: requests in c:\\users\\sandra\\appdata\\local\\programs\\python\\python37\\lib\\site-packages (2.28.1)\n",
      "Requirement already satisfied: idna<4,>=2.5 in c:\\users\\sandra\\appdata\\local\\programs\\python\\python37\\lib\\site-packages (from requests) (3.3)\n",
      "Requirement already satisfied: charset-normalizer<3,>=2 in c:\\users\\sandra\\appdata\\local\\programs\\python\\python37\\lib\\site-packages (from requests) (2.1.0)\n",
      "Requirement already satisfied: urllib3<1.27,>=1.21.1 in c:\\users\\sandra\\appdata\\local\\programs\\python\\python37\\lib\\site-packages (from requests) (1.26.10)\n",
      "Requirement already satisfied: certifi>=2017.4.17 in c:\\users\\sandra\\appdata\\local\\programs\\python\\python37\\lib\\site-packages (from requests) (2022.6.15)\n",
      "Note: you may need to restart the kernel to use updated packages.\n"
     ]
    }
   ],
   "source": [
    "pip install requests"
   ]
  },
  {
   "cell_type": "code",
   "execution_count": 25,
   "id": "9fd3572f",
   "metadata": {},
   "outputs": [
    {
     "ename": "SyntaxError",
     "evalue": "invalid token (4112441427.py, line 5)",
     "output_type": "error",
     "traceback": [
      "\u001b[1;36m  File \u001b[1;32m\"C:\\Users\\Sandra\\AppData\\Local\\Temp\\ipykernel_2584\\4112441427.py\"\u001b[1;36m, line \u001b[1;32m5\u001b[0m\n\u001b[1;33m    print(05ffe3a4-5b5a-433c-af7f-0e6dae6edb18)\u001b[0m\n\u001b[1;37m           ^\u001b[0m\n\u001b[1;31mSyntaxError\u001b[0m\u001b[1;31m:\u001b[0m invalid token\n"
     ]
    }
   ],
   "source": [
    "import requests\n",
    "from pprint import pprint\n",
    "from config import api_key\n",
    "url = \"https://api.nytimes.com/svc/search/v2/articlesearch.json?\"\n",
    "print(05ffe3a4-5b5a-433c-af7f-0e6dae6edb18)"
   ]
  },
  {
   "cell_type": "code",
   "execution_count": null,
   "id": "81636d4f",
   "metadata": {},
   "outputs": [],
   "source": []
  },
  {
   "cell_type": "code",
   "execution_count": 22,
   "id": "def82a13",
   "metadata": {},
   "outputs": [],
   "source": [
    "query = \"vaccine\""
   ]
  },
  {
   "cell_type": "code",
   "execution_count": 24,
   "id": "88aeb5a1",
   "metadata": {},
   "outputs": [
    {
     "ename": "SyntaxError",
     "evalue": "EOL while scanning string literal (2996685696.py, line 1)",
     "output_type": "error",
     "traceback": [
      "\u001b[1;36m  File \u001b[1;32m\"C:\\Users\\Sandra\\AppData\\Local\\Temp\\ipykernel_2584\\2996685696.py\"\u001b[1;36m, line \u001b[1;32m1\u001b[0m\n\u001b[1;33m    query_url = url + \"05ffe3a4-5b5a-433c-af7f-0e6dae6edb18 + \"&q=\" + query\u001b[0m\n\u001b[1;37m                                                                           ^\u001b[0m\n\u001b[1;31mSyntaxError\u001b[0m\u001b[1;31m:\u001b[0m EOL while scanning string literal\n"
     ]
    }
   ],
   "source": [
    "query_url = url + \"05ffe3a4-5b5a-433c-af7f-0e6dae6edb18 + \"&q=\" + query\n",
    "print(query_url)"
   ]
  },
  {
   "cell_type": "code",
   "execution_count": null,
   "id": "0104430d",
   "metadata": {},
   "outputs": [],
   "source": [
    "print(requests.get(url).json())"
   ]
  },
  {
   "cell_type": "code",
   "execution_count": null,
   "id": "8dcbcd78",
   "metadata": {},
   "outputs": [],
   "source": [
    "05ffe3a4-5b5a-433c-af7f-0e6dae6edb18\n"
   ]
  },
  {
   "cell_type": "code",
   "execution_count": null,
   "id": "25668e2a",
   "metadata": {},
   "outputs": [],
   "source": []
  },
  {
   "cell_type": "code",
   "execution_count": null,
   "id": "89df3f7a",
   "metadata": {},
   "outputs": [],
   "source": []
  }
 ],
 "metadata": {
  "kernelspec": {
   "display_name": "PythonData",
   "language": "python",
   "name": "pythondata"
  },
  "language_info": {
   "codemirror_mode": {
    "name": "ipython",
    "version": 3
   },
   "file_extension": ".py",
   "mimetype": "text/x-python",
   "name": "python",
   "nbconvert_exporter": "python",
   "pygments_lexer": "ipython3",
   "version": "3.7.6"
  }
 },
 "nbformat": 4,
 "nbformat_minor": 5
}
