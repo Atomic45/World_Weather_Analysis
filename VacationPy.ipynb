{
 "cells": [
  {
   "cell_type": "code",
   "execution_count": 2,
   "id": "a3ce77d2",
   "metadata": {},
   "outputs": [
    {
     "name": "stdout",
     "output_type": "stream",
     "text": [
      "Requirement already satisfied: gmaps in c:\\users\\sandra\\appdata\\local\\programs\\python\\python37\\lib\\site-packages (0.9.0)\n",
      "Requirement already satisfied: ipython>=5.3.0 in c:\\users\\sandra\\appdata\\local\\programs\\python\\python37\\lib\\site-packages (from gmaps) (7.34.0)\n",
      "Requirement already satisfied: ipywidgets>=7.0.0 in c:\\users\\sandra\\appdata\\local\\programs\\python\\python37\\lib\\site-packages (from gmaps) (7.7.1)\n",
      "Requirement already satisfied: traitlets>=4.3.0 in c:\\users\\sandra\\appdata\\local\\programs\\python\\python37\\lib\\site-packages (from gmaps) (5.3.0)\n",
      "Requirement already satisfied: geojson>=2.0.0 in c:\\users\\sandra\\appdata\\local\\programs\\python\\python37\\lib\\site-packages (from gmaps) (2.5.0)\n",
      "Requirement already satisfied: six in c:\\users\\sandra\\appdata\\local\\programs\\python\\python37\\lib\\site-packages (from gmaps) (1.16.0)\n",
      "Requirement already satisfied: jedi>=0.16 in c:\\users\\sandra\\appdata\\local\\programs\\python\\python37\\lib\\site-packages (from ipython>=5.3.0->gmaps) (0.18.1)\n",
      "Requirement already satisfied: decorator in c:\\users\\sandra\\appdata\\local\\programs\\python\\python37\\lib\\site-packages (from ipython>=5.3.0->gmaps) (5.1.1)\n",
      "Requirement already satisfied: backcall in c:\\users\\sandra\\appdata\\local\\programs\\python\\python37\\lib\\site-packages (from ipython>=5.3.0->gmaps) (0.2.0)\n",
      "Requirement already satisfied: setuptools>=18.5 in c:\\users\\sandra\\appdata\\local\\programs\\python\\python37\\lib\\site-packages (from ipython>=5.3.0->gmaps) (41.2.0)\n",
      "Requirement already satisfied: pickleshare in c:\\users\\sandra\\appdata\\local\\programs\\python\\python37\\lib\\site-packages (from ipython>=5.3.0->gmaps) (0.7.5)\n",
      "Requirement already satisfied: matplotlib-inline in c:\\users\\sandra\\appdata\\local\\programs\\python\\python37\\lib\\site-packages (from ipython>=5.3.0->gmaps) (0.1.3)\n",
      "Requirement already satisfied: prompt-toolkit!=3.0.0,!=3.0.1,<3.1.0,>=2.0.0 in c:\\users\\sandra\\appdata\\local\\programs\\python\\python37\\lib\\site-packages (from ipython>=5.3.0->gmaps) (3.0.30)\n",
      "Requirement already satisfied: pygments in c:\\users\\sandra\\appdata\\local\\programs\\python\\python37\\lib\\site-packages (from ipython>=5.3.0->gmaps) (2.12.0)\n",
      "Requirement already satisfied: colorama in c:\\users\\sandra\\appdata\\local\\programs\\python\\python37\\lib\\site-packages (from ipython>=5.3.0->gmaps) (0.4.5)\n",
      "Requirement already satisfied: widgetsnbextension~=3.6.0 in c:\\users\\sandra\\appdata\\local\\programs\\python\\python37\\lib\\site-packages (from ipywidgets>=7.0.0->gmaps) (3.6.1)\n",
      "Requirement already satisfied: jupyterlab-widgets>=1.0.0 in c:\\users\\sandra\\appdata\\local\\programs\\python\\python37\\lib\\site-packages (from ipywidgets>=7.0.0->gmaps) (1.1.1)\n",
      "Requirement already satisfied: ipykernel>=4.5.1 in c:\\users\\sandra\\appdata\\local\\programs\\python\\python37\\lib\\site-packages (from ipywidgets>=7.0.0->gmaps) (6.15.0)\n",
      "Requirement already satisfied: ipython-genutils~=0.2.0 in c:\\users\\sandra\\appdata\\local\\programs\\python\\python37\\lib\\site-packages (from ipywidgets>=7.0.0->gmaps) (0.2.0)\n",
      "Requirement already satisfied: packaging in c:\\users\\sandra\\appdata\\local\\programs\\python\\python37\\lib\\site-packages (from ipykernel>=4.5.1->ipywidgets>=7.0.0->gmaps) (21.3)\n",
      "Requirement already satisfied: psutil in c:\\users\\sandra\\appdata\\local\\programs\\python\\python37\\lib\\site-packages (from ipykernel>=4.5.1->ipywidgets>=7.0.0->gmaps) (5.9.1)\n",
      "Requirement already satisfied: pyzmq>=17 in c:\\users\\sandra\\appdata\\local\\programs\\python\\python37\\lib\\site-packages (from ipykernel>=4.5.1->ipywidgets>=7.0.0->gmaps) (23.2.0)\n",
      "Requirement already satisfied: jupyter-client>=6.1.12 in c:\\users\\sandra\\appdata\\local\\programs\\python\\python37\\lib\\site-packages (from ipykernel>=4.5.1->ipywidgets>=7.0.0->gmaps) (7.3.4)\n",
      "Requirement already satisfied: nest-asyncio in c:\\users\\sandra\\appdata\\local\\programs\\python\\python37\\lib\\site-packages (from ipykernel>=4.5.1->ipywidgets>=7.0.0->gmaps) (1.5.5)\n",
      "Requirement already satisfied: debugpy>=1.0 in c:\\users\\sandra\\appdata\\local\\programs\\python\\python37\\lib\\site-packages (from ipykernel>=4.5.1->ipywidgets>=7.0.0->gmaps) (1.6.0)\n",
      "Requirement already satisfied: tornado>=6.1 in c:\\users\\sandra\\appdata\\local\\programs\\python\\python37\\lib\\site-packages (from ipykernel>=4.5.1->ipywidgets>=7.0.0->gmaps) (6.1)\n",
      "Requirement already satisfied: parso<0.9.0,>=0.8.0 in c:\\users\\sandra\\appdata\\local\\programs\\python\\python37\\lib\\site-packages (from jedi>=0.16->ipython>=5.3.0->gmaps) (0.8.3)\n",
      "Requirement already satisfied: wcwidth in c:\\users\\sandra\\appdata\\local\\programs\\python\\python37\\lib\\site-packages (from prompt-toolkit!=3.0.0,!=3.0.1,<3.1.0,>=2.0.0->ipython>=5.3.0->gmaps) (0.2.5)\n",
      "Requirement already satisfied: notebook>=4.4.1 in c:\\users\\sandra\\appdata\\local\\programs\\python\\python37\\lib\\site-packages (from widgetsnbextension~=3.6.0->ipywidgets>=7.0.0->gmaps) (6.4.12)\n",
      "Requirement already satisfied: python-dateutil>=2.8.2 in c:\\users\\sandra\\appdata\\local\\programs\\python\\python37\\lib\\site-packages (from jupyter-client>=6.1.12->ipykernel>=4.5.1->ipywidgets>=7.0.0->gmaps) (2.8.2)\n",
      "Requirement already satisfied: jupyter-core>=4.9.2 in c:\\users\\sandra\\appdata\\local\\programs\\python\\python37\\lib\\site-packages (from jupyter-client>=6.1.12->ipykernel>=4.5.1->ipywidgets>=7.0.0->gmaps) (4.10.0)\n",
      "Requirement already satisfied: entrypoints in c:\\users\\sandra\\appdata\\local\\programs\\python\\python37\\lib\\site-packages (from jupyter-client>=6.1.12->ipykernel>=4.5.1->ipywidgets>=7.0.0->gmaps) (0.4)\n",
      "Requirement already satisfied: prometheus-client in c:\\users\\sandra\\appdata\\local\\programs\\python\\python37\\lib\\site-packages (from notebook>=4.4.1->widgetsnbextension~=3.6.0->ipywidgets>=7.0.0->gmaps) (0.14.1)\n",
      "Requirement already satisfied: jinja2 in c:\\users\\sandra\\appdata\\local\\programs\\python\\python37\\lib\\site-packages (from notebook>=4.4.1->widgetsnbextension~=3.6.0->ipywidgets>=7.0.0->gmaps) (3.1.2)\n",
      "Requirement already satisfied: Send2Trash>=1.8.0 in c:\\users\\sandra\\appdata\\local\\programs\\python\\python37\\lib\\site-packages (from notebook>=4.4.1->widgetsnbextension~=3.6.0->ipywidgets>=7.0.0->gmaps) (1.8.0)\n",
      "Requirement already satisfied: argon2-cffi in c:\\users\\sandra\\appdata\\local\\programs\\python\\python37\\lib\\site-packages (from notebook>=4.4.1->widgetsnbextension~=3.6.0->ipywidgets>=7.0.0->gmaps) (21.3.0)\n",
      "Requirement already satisfied: nbconvert>=5 in c:\\users\\sandra\\appdata\\local\\programs\\python\\python37\\lib\\site-packages (from notebook>=4.4.1->widgetsnbextension~=3.6.0->ipywidgets>=7.0.0->gmaps) (6.5.0)\n",
      "Requirement already satisfied: nbformat in c:\\users\\sandra\\appdata\\local\\programs\\python\\python37\\lib\\site-packages (from notebook>=4.4.1->widgetsnbextension~=3.6.0->ipywidgets>=7.0.0->gmaps) (5.4.0)\n",
      "Requirement already satisfied: terminado>=0.8.3 in c:\\users\\sandra\\appdata\\local\\programs\\python\\python37\\lib\\site-packages (from notebook>=4.4.1->widgetsnbextension~=3.6.0->ipywidgets>=7.0.0->gmaps) (0.15.0)\n",
      "Requirement already satisfied: pyparsing!=3.0.5,>=2.0.2 in c:\\users\\sandra\\appdata\\local\\programs\\python\\python37\\lib\\site-packages (from packaging->ipykernel>=4.5.1->ipywidgets>=7.0.0->gmaps) (3.0.9)\n",
      "Requirement already satisfied: pywin32>=1.0 in c:\\users\\sandra\\appdata\\local\\programs\\python\\python37\\lib\\site-packages (from jupyter-core>=4.9.2->jupyter-client>=6.1.12->ipykernel>=4.5.1->ipywidgets>=7.0.0->gmaps) (304)\n",
      "Requirement already satisfied: MarkupSafe>=2.0 in c:\\users\\sandra\\appdata\\local\\programs\\python\\python37\\lib\\site-packages (from nbconvert>=5->notebook>=4.4.1->widgetsnbextension~=3.6.0->ipywidgets>=7.0.0->gmaps) (2.1.1)\n",
      "Requirement already satisfied: mistune<2,>=0.8.1 in c:\\users\\sandra\\appdata\\local\\programs\\python\\python37\\lib\\site-packages (from nbconvert>=5->notebook>=4.4.1->widgetsnbextension~=3.6.0->ipywidgets>=7.0.0->gmaps) (0.8.4)\n",
      "Requirement already satisfied: tinycss2 in c:\\users\\sandra\\appdata\\local\\programs\\python\\python37\\lib\\site-packages (from nbconvert>=5->notebook>=4.4.1->widgetsnbextension~=3.6.0->ipywidgets>=7.0.0->gmaps) (1.1.1)\n",
      "Requirement already satisfied: beautifulsoup4 in c:\\users\\sandra\\appdata\\local\\programs\\python\\python37\\lib\\site-packages (from nbconvert>=5->notebook>=4.4.1->widgetsnbextension~=3.6.0->ipywidgets>=7.0.0->gmaps) (4.11.1)\n",
      "Requirement already satisfied: jupyterlab-pygments in c:\\users\\sandra\\appdata\\local\\programs\\python\\python37\\lib\\site-packages (from nbconvert>=5->notebook>=4.4.1->widgetsnbextension~=3.6.0->ipywidgets>=7.0.0->gmaps) (0.2.2)\n",
      "Requirement already satisfied: nbclient>=0.5.0 in c:\\users\\sandra\\appdata\\local\\programs\\python\\python37\\lib\\site-packages (from nbconvert>=5->notebook>=4.4.1->widgetsnbextension~=3.6.0->ipywidgets>=7.0.0->gmaps) (0.6.6)\n",
      "Requirement already satisfied: bleach in c:\\users\\sandra\\appdata\\local\\programs\\python\\python37\\lib\\site-packages (from nbconvert>=5->notebook>=4.4.1->widgetsnbextension~=3.6.0->ipywidgets>=7.0.0->gmaps) (5.0.1)\n",
      "Requirement already satisfied: defusedxml in c:\\users\\sandra\\appdata\\local\\programs\\python\\python37\\lib\\site-packages (from nbconvert>=5->notebook>=4.4.1->widgetsnbextension~=3.6.0->ipywidgets>=7.0.0->gmaps) (0.7.1)\n",
      "Requirement already satisfied: pandocfilters>=1.4.1 in c:\\users\\sandra\\appdata\\local\\programs\\python\\python37\\lib\\site-packages (from nbconvert>=5->notebook>=4.4.1->widgetsnbextension~=3.6.0->ipywidgets>=7.0.0->gmaps) (1.5.0)\n",
      "Requirement already satisfied: jsonschema>=2.6 in c:\\users\\sandra\\appdata\\local\\programs\\python\\python37\\lib\\site-packages (from nbformat->notebook>=4.4.1->widgetsnbextension~=3.6.0->ipywidgets>=7.0.0->gmaps) (4.7.2)\n",
      "Requirement already satisfied: fastjsonschema in c:\\users\\sandra\\appdata\\local\\programs\\python\\python37\\lib\\site-packages (from nbformat->notebook>=4.4.1->widgetsnbextension~=3.6.0->ipywidgets>=7.0.0->gmaps) (2.15.3)\n",
      "Requirement already satisfied: pywinpty>=1.1.0 in c:\\users\\sandra\\appdata\\local\\programs\\python\\python37\\lib\\site-packages (from terminado>=0.8.3->notebook>=4.4.1->widgetsnbextension~=3.6.0->ipywidgets>=7.0.0->gmaps) (2.0.6)\n",
      "Requirement already satisfied: typing-extensions in c:\\users\\sandra\\appdata\\local\\programs\\python\\python37\\lib\\site-packages (from argon2-cffi->notebook>=4.4.1->widgetsnbextension~=3.6.0->ipywidgets>=7.0.0->gmaps) (4.3.0)\n",
      "Requirement already satisfied: argon2-cffi-bindings in c:\\users\\sandra\\appdata\\local\\programs\\python\\python37\\lib\\site-packages (from argon2-cffi->notebook>=4.4.1->widgetsnbextension~=3.6.0->ipywidgets>=7.0.0->gmaps) (21.2.0)\n",
      "Requirement already satisfied: attrs>=17.4.0 in c:\\users\\sandra\\appdata\\local\\programs\\python\\python37\\lib\\site-packages (from jsonschema>=2.6->nbformat->notebook>=4.4.1->widgetsnbextension~=3.6.0->ipywidgets>=7.0.0->gmaps) (21.4.0)\n",
      "Requirement already satisfied: pyrsistent!=0.17.0,!=0.17.1,!=0.17.2,>=0.14.0 in c:\\users\\sandra\\appdata\\local\\programs\\python\\python37\\lib\\site-packages (from jsonschema>=2.6->nbformat->notebook>=4.4.1->widgetsnbextension~=3.6.0->ipywidgets>=7.0.0->gmaps) (0.18.1)\n",
      "Requirement already satisfied: importlib-metadata in c:\\users\\sandra\\appdata\\local\\programs\\python\\python37\\lib\\site-packages (from jsonschema>=2.6->nbformat->notebook>=4.4.1->widgetsnbextension~=3.6.0->ipywidgets>=7.0.0->gmaps) (4.12.0)\n",
      "Requirement already satisfied: importlib-resources>=1.4.0 in c:\\users\\sandra\\appdata\\local\\programs\\python\\python37\\lib\\site-packages (from jsonschema>=2.6->nbformat->notebook>=4.4.1->widgetsnbextension~=3.6.0->ipywidgets>=7.0.0->gmaps) (5.8.0)\n",
      "Requirement already satisfied: cffi>=1.0.1 in c:\\users\\sandra\\appdata\\local\\programs\\python\\python37\\lib\\site-packages (from argon2-cffi-bindings->argon2-cffi->notebook>=4.4.1->widgetsnbextension~=3.6.0->ipywidgets>=7.0.0->gmaps) (1.15.1)\n",
      "Requirement already satisfied: soupsieve>1.2 in c:\\users\\sandra\\appdata\\local\\programs\\python\\python37\\lib\\site-packages (from beautifulsoup4->nbconvert>=5->notebook>=4.4.1->widgetsnbextension~=3.6.0->ipywidgets>=7.0.0->gmaps) (2.3.2.post1)\n",
      "Requirement already satisfied: webencodings in c:\\users\\sandra\\appdata\\local\\programs\\python\\python37\\lib\\site-packages (from bleach->nbconvert>=5->notebook>=4.4.1->widgetsnbextension~=3.6.0->ipywidgets>=7.0.0->gmaps) (0.5.1)\n",
      "Requirement already satisfied: pycparser in c:\\users\\sandra\\appdata\\local\\programs\\python\\python37\\lib\\site-packages (from cffi>=1.0.1->argon2-cffi-bindings->argon2-cffi->notebook>=4.4.1->widgetsnbextension~=3.6.0->ipywidgets>=7.0.0->gmaps) (2.21)\n",
      "Requirement already satisfied: zipp>=3.1.0 in c:\\users\\sandra\\appdata\\local\\programs\\python\\python37\\lib\\site-packages (from importlib-resources>=1.4.0->jsonschema>=2.6->nbformat->notebook>=4.4.1->widgetsnbextension~=3.6.0->ipywidgets>=7.0.0->gmaps) (3.8.1)\n",
      "Note: you may need to restart the kernel to use updated packages.\n"
     ]
    }
   ],
   "source": [
    "pip install gmaps"
   ]
  },
  {
   "cell_type": "code",
   "execution_count": 3,
   "id": "aef75450",
   "metadata": {},
   "outputs": [],
   "source": [
    "# Import the dependencies.\n",
    "import pandas as pd\n",
    "import gmaps\n",
    "import requests\n",
    "\n",
    "# Import the API key.\n",
    "from config import g_key\n"
   ]
  },
  {
   "cell_type": "code",
   "execution_count": 4,
   "id": "bd551b0d",
   "metadata": {},
   "outputs": [],
   "source": [
    "import gmaps\n",
    "import os\n",
    "import json\n",
    "import gmaps.datasets\n"
   ]
  },
  {
   "cell_type": "code",
   "execution_count": 12,
   "id": "1b8b90db",
   "metadata": {},
   "outputs": [
    {
     "data": {
      "text/plain": [
       "'0.9.0'"
      ]
     },
     "execution_count": 12,
     "metadata": {},
     "output_type": "execute_result"
    }
   ],
   "source": [
    "gmaps.__version__"
   ]
  },
  {
   "cell_type": "code",
   "execution_count": 13,
   "id": "42c16cc0",
   "metadata": {},
   "outputs": [
    {
     "data": {
      "text/html": [
       "<div>\n",
       "<style scoped>\n",
       "    .dataframe tbody tr th:only-of-type {\n",
       "        vertical-align: middle;\n",
       "    }\n",
       "\n",
       "    .dataframe tbody tr th {\n",
       "        vertical-align: top;\n",
       "    }\n",
       "\n",
       "    .dataframe thead th {\n",
       "        text-align: right;\n",
       "    }\n",
       "</style>\n",
       "<table border=\"1\" class=\"dataframe\">\n",
       "  <thead>\n",
       "    <tr style=\"text-align: right;\">\n",
       "      <th></th>\n",
       "      <th>City_ID</th>\n",
       "      <th>City</th>\n",
       "      <th>Country</th>\n",
       "      <th>Date</th>\n",
       "      <th>Lat</th>\n",
       "      <th>Lng</th>\n",
       "      <th>Max Temp</th>\n",
       "      <th>Humidity</th>\n",
       "      <th>Cloudiness</th>\n",
       "      <th>Wind Speed</th>\n",
       "    </tr>\n",
       "  </thead>\n",
       "  <tbody>\n",
       "    <tr>\n",
       "      <th>0</th>\n",
       "      <td>0</td>\n",
       "      <td>Ulaanbaatar</td>\n",
       "      <td>MN</td>\n",
       "      <td>2022-07-19 01:56:43</td>\n",
       "      <td>47.9077</td>\n",
       "      <td>106.8832</td>\n",
       "      <td>73.53</td>\n",
       "      <td>28</td>\n",
       "      <td>40</td>\n",
       "      <td>17.90</td>\n",
       "    </tr>\n",
       "    <tr>\n",
       "      <th>1</th>\n",
       "      <td>1</td>\n",
       "      <td>Punta Arenas</td>\n",
       "      <td>CL</td>\n",
       "      <td>2022-07-19 02:00:53</td>\n",
       "      <td>-53.1500</td>\n",
       "      <td>-70.9167</td>\n",
       "      <td>39.11</td>\n",
       "      <td>80</td>\n",
       "      <td>98</td>\n",
       "      <td>31.88</td>\n",
       "    </tr>\n",
       "    <tr>\n",
       "      <th>2</th>\n",
       "      <td>2</td>\n",
       "      <td>Gorin</td>\n",
       "      <td>RU</td>\n",
       "      <td>2022-07-19 02:00:53</td>\n",
       "      <td>51.1983</td>\n",
       "      <td>136.6669</td>\n",
       "      <td>56.46</td>\n",
       "      <td>99</td>\n",
       "      <td>100</td>\n",
       "      <td>5.68</td>\n",
       "    </tr>\n",
       "    <tr>\n",
       "      <th>3</th>\n",
       "      <td>3</td>\n",
       "      <td>Raudeberg</td>\n",
       "      <td>NO</td>\n",
       "      <td>2022-07-19 02:00:53</td>\n",
       "      <td>61.9875</td>\n",
       "      <td>5.1352</td>\n",
       "      <td>52.95</td>\n",
       "      <td>83</td>\n",
       "      <td>68</td>\n",
       "      <td>7.76</td>\n",
       "    </tr>\n",
       "    <tr>\n",
       "      <th>4</th>\n",
       "      <td>4</td>\n",
       "      <td>Nalut</td>\n",
       "      <td>LY</td>\n",
       "      <td>2022-07-19 02:00:54</td>\n",
       "      <td>30.3333</td>\n",
       "      <td>10.8500</td>\n",
       "      <td>78.12</td>\n",
       "      <td>34</td>\n",
       "      <td>0</td>\n",
       "      <td>13.38</td>\n",
       "    </tr>\n",
       "  </tbody>\n",
       "</table>\n",
       "</div>"
      ],
      "text/plain": [
       "   City_ID          City Country                 Date      Lat       Lng  \\\n",
       "0        0   Ulaanbaatar      MN  2022-07-19 01:56:43  47.9077  106.8832   \n",
       "1        1  Punta Arenas      CL  2022-07-19 02:00:53 -53.1500  -70.9167   \n",
       "2        2         Gorin      RU  2022-07-19 02:00:53  51.1983  136.6669   \n",
       "3        3     Raudeberg      NO  2022-07-19 02:00:53  61.9875    5.1352   \n",
       "4        4         Nalut      LY  2022-07-19 02:00:54  30.3333   10.8500   \n",
       "\n",
       "   Max Temp  Humidity  Cloudiness  Wind Speed  \n",
       "0     73.53        28          40       17.90  \n",
       "1     39.11        80          98       31.88  \n",
       "2     56.46        99         100        5.68  \n",
       "3     52.95        83          68        7.76  \n",
       "4     78.12        34           0       13.38  "
      ]
     },
     "execution_count": 13,
     "metadata": {},
     "output_type": "execute_result"
    }
   ],
   "source": [
    "# Store the CSV you saved created in part one into a DataFrame.\n",
    "city_data_df = pd.read_csv(\"weather_data/cities.csv\")\n",
    "city_data_df.head()\n"
   ]
  },
  {
   "cell_type": "code",
   "execution_count": 6,
   "id": "14f64068",
   "metadata": {},
   "outputs": [
    {
     "data": {
      "text/plain": [
       "City_ID         int64\n",
       "City           object\n",
       "Country        object\n",
       "Date           object\n",
       "Lat           float64\n",
       "Lng           float64\n",
       "Max Temp      float64\n",
       "Humidity        int64\n",
       "Cloudiness      int64\n",
       "Wind Speed    float64\n",
       "dtype: object"
      ]
     },
     "execution_count": 6,
     "metadata": {},
     "output_type": "execute_result"
    }
   ],
   "source": [
    "city_data_df.dtypes"
   ]
  },
  {
   "cell_type": "code",
   "execution_count": 14,
   "id": "54b2962b",
   "metadata": {},
   "outputs": [],
   "source": [
    "# Configure gmaps to use your Google API key.\n",
    "gmaps.configure(api_key=g_key)"
   ]
  },
  {
   "cell_type": "code",
   "execution_count": 15,
   "id": "0975d414",
   "metadata": {},
   "outputs": [],
   "source": [
    "# Get the maximum temperature.\n",
    "max_temp = city_data_df[\"Max Temp\"]\n",
    "temps = []\n",
    "for temp in max_temp:\n",
    "    temps.append(max(temp, 0))"
   ]
  },
  {
   "cell_type": "code",
   "execution_count": 17,
   "id": "f1771955",
   "metadata": {},
   "outputs": [
    {
     "data": {
      "application/vnd.jupyter.widget-view+json": {
       "model_id": "fe3e589433164243a0e9d7b5533ed7d9",
       "version_major": 2,
       "version_minor": 0
      },
      "text/plain": [
       "Figure(layout=FigureLayout(height='420px'))"
      ]
     },
     "metadata": {},
     "output_type": "display_data"
    }
   ],
   "source": [
    "# Heatmap of temperature\n",
    "# Get the latitude and longitude.\n",
    "locations = city_data_df[[\"Lat\", \"Lng\"]]\n",
    "# Get the maximum temperature.\n",
    "max_temp = city_data_df[\"Max Temp\"]\n",
    "# Assign the figure variable.\n",
    "fig = gmaps.figure()\n",
    "# Assign the heatmap variable.\n",
    "heat_layer = gmaps.heatmap_layer(locations, weights=temps)\n",
    "# Add the heatmap layer.\n",
    "fig.add_layer(heat_layer)\n",
    "# Call the figure to plot the data.\n",
    "fig"
   ]
  },
  {
   "cell_type": "code",
   "execution_count": 10,
   "id": "743db7f5",
   "metadata": {},
   "outputs": [
    {
     "data": {
      "application/vnd.jupyter.widget-view+json": {
       "model_id": "cf9fd0c88aae43638ea70069a4f1007e",
       "version_major": 2,
       "version_minor": 0
      },
      "text/plain": [
       "Figure(layout=FigureLayout(height='420px'))"
      ]
     },
     "metadata": {},
     "output_type": "display_data"
    }
   ],
   "source": [
    "# Heatmap of percent humidity\n",
    "locations = city_data_df[[\"Lat\", \"Lng\"]]\n",
    "humidity = city_data_df[\"Humidity\"]\n",
    "fig = gmaps.figure(center=(30.0, 31.0), zoom_level=1.5)\n",
    "heat_layer = gmaps.heatmap_layer(locations, weights=humidity, dissipating=False, max_intensity=300, point_radius=4)\n",
    "\n",
    "fig.add_layer(heat_layer)\n",
    "# Call the figure to plot the data.\n",
    "fig"
   ]
  },
  {
   "cell_type": "code",
   "execution_count": null,
   "id": "766a7568",
   "metadata": {},
   "outputs": [],
   "source": []
  }
 ],
 "metadata": {
  "kernelspec": {
   "display_name": "PythonData",
   "language": "python",
   "name": "pythondata"
  },
  "language_info": {
   "codemirror_mode": {
    "name": "ipython",
    "version": 3
   },
   "file_extension": ".py",
   "mimetype": "text/x-python",
   "name": "python",
   "nbconvert_exporter": "python",
   "pygments_lexer": "ipython3",
   "version": "3.7.6"
  }
 },
 "nbformat": 4,
 "nbformat_minor": 5
}
