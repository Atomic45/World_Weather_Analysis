{
 "cells": [
  {
   "cell_type": "code",
   "execution_count": 6,
   "id": "756bdb16",
   "metadata": {},
   "outputs": [
    {
     "name": "stdout",
     "output_type": "stream",
     "text": [
      "Collecting gmaps\n",
      "  Downloading gmaps-0.9.0.tar.gz (1.1 MB)\n",
      "     ---------------------------------------- 1.1/1.1 MB 3.5 MB/s eta 0:00:00\n",
      "  Preparing metadata (setup.py): started\n",
      "  Preparing metadata (setup.py): finished with status 'done'\n",
      "Requirement already satisfied: ipython>=5.3.0 in c:\\users\\sandra\\appdata\\local\\programs\\python\\python37\\lib\\site-packages (from gmaps) (7.34.0)\n",
      "Collecting ipywidgets>=7.0.0\n",
      "  Using cached ipywidgets-7.7.1-py2.py3-none-any.whl (123 kB)\n",
      "Requirement already satisfied: traitlets>=4.3.0 in c:\\users\\sandra\\appdata\\local\\programs\\python\\python37\\lib\\site-packages (from gmaps) (5.3.0)\n",
      "Collecting geojson>=2.0.0\n",
      "  Downloading geojson-2.5.0-py2.py3-none-any.whl (14 kB)\n",
      "Requirement already satisfied: six in c:\\users\\sandra\\appdata\\local\\programs\\python\\python37\\lib\\site-packages (from gmaps) (1.16.0)\n",
      "Requirement already satisfied: jedi>=0.16 in c:\\users\\sandra\\appdata\\local\\programs\\python\\python37\\lib\\site-packages (from ipython>=5.3.0->gmaps) (0.18.1)\n",
      "Requirement already satisfied: matplotlib-inline in c:\\users\\sandra\\appdata\\local\\programs\\python\\python37\\lib\\site-packages (from ipython>=5.3.0->gmaps) (0.1.3)\n",
      "Requirement already satisfied: setuptools>=18.5 in c:\\users\\sandra\\appdata\\local\\programs\\python\\python37\\lib\\site-packages (from ipython>=5.3.0->gmaps) (41.2.0)\n",
      "Requirement already satisfied: pygments in c:\\users\\sandra\\appdata\\local\\programs\\python\\python37\\lib\\site-packages (from ipython>=5.3.0->gmaps) (2.12.0)\n",
      "Requirement already satisfied: colorama in c:\\users\\sandra\\appdata\\local\\programs\\python\\python37\\lib\\site-packages (from ipython>=5.3.0->gmaps) (0.4.5)\n",
      "Requirement already satisfied: prompt-toolkit!=3.0.0,!=3.0.1,<3.1.0,>=2.0.0 in c:\\users\\sandra\\appdata\\local\\programs\\python\\python37\\lib\\site-packages (from ipython>=5.3.0->gmaps) (3.0.30)\n",
      "Requirement already satisfied: pickleshare in c:\\users\\sandra\\appdata\\local\\programs\\python\\python37\\lib\\site-packages (from ipython>=5.3.0->gmaps) (0.7.5)\n",
      "Requirement already satisfied: decorator in c:\\users\\sandra\\appdata\\local\\programs\\python\\python37\\lib\\site-packages (from ipython>=5.3.0->gmaps) (5.1.1)\n",
      "Requirement already satisfied: backcall in c:\\users\\sandra\\appdata\\local\\programs\\python\\python37\\lib\\site-packages (from ipython>=5.3.0->gmaps) (0.2.0)\n",
      "Collecting widgetsnbextension~=3.6.0\n",
      "  Using cached widgetsnbextension-3.6.1-py2.py3-none-any.whl (1.6 MB)\n",
      "Requirement already satisfied: ipykernel>=4.5.1 in c:\\users\\sandra\\appdata\\local\\programs\\python\\python37\\lib\\site-packages (from ipywidgets>=7.0.0->gmaps) (6.15.0)\n",
      "Collecting ipython-genutils~=0.2.0\n",
      "  Using cached ipython_genutils-0.2.0-py2.py3-none-any.whl (26 kB)\n",
      "Collecting jupyterlab-widgets>=1.0.0\n",
      "  Using cached jupyterlab_widgets-1.1.1-py3-none-any.whl (245 kB)\n",
      "Requirement already satisfied: pyzmq>=17 in c:\\users\\sandra\\appdata\\local\\programs\\python\\python37\\lib\\site-packages (from ipykernel>=4.5.1->ipywidgets>=7.0.0->gmaps) (23.2.0)\n",
      "Requirement already satisfied: nest-asyncio in c:\\users\\sandra\\appdata\\local\\programs\\python\\python37\\lib\\site-packages (from ipykernel>=4.5.1->ipywidgets>=7.0.0->gmaps) (1.5.5)\n",
      "Requirement already satisfied: packaging in c:\\users\\sandra\\appdata\\local\\programs\\python\\python37\\lib\\site-packages (from ipykernel>=4.5.1->ipywidgets>=7.0.0->gmaps) (21.3)\n",
      "Requirement already satisfied: tornado>=6.1 in c:\\users\\sandra\\appdata\\local\\programs\\python\\python37\\lib\\site-packages (from ipykernel>=4.5.1->ipywidgets>=7.0.0->gmaps) (6.1)\n",
      "Requirement already satisfied: debugpy>=1.0 in c:\\users\\sandra\\appdata\\local\\programs\\python\\python37\\lib\\site-packages (from ipykernel>=4.5.1->ipywidgets>=7.0.0->gmaps) (1.6.0)\n",
      "Requirement already satisfied: psutil in c:\\users\\sandra\\appdata\\local\\programs\\python\\python37\\lib\\site-packages (from ipykernel>=4.5.1->ipywidgets>=7.0.0->gmaps) (5.9.1)\n",
      "Requirement already satisfied: jupyter-client>=6.1.12 in c:\\users\\sandra\\appdata\\local\\programs\\python\\python37\\lib\\site-packages (from ipykernel>=4.5.1->ipywidgets>=7.0.0->gmaps) (7.3.4)\n",
      "Requirement already satisfied: parso<0.9.0,>=0.8.0 in c:\\users\\sandra\\appdata\\local\\programs\\python\\python37\\lib\\site-packages (from jedi>=0.16->ipython>=5.3.0->gmaps) (0.8.3)\n",
      "Requirement already satisfied: wcwidth in c:\\users\\sandra\\appdata\\local\\programs\\python\\python37\\lib\\site-packages (from prompt-toolkit!=3.0.0,!=3.0.1,<3.1.0,>=2.0.0->ipython>=5.3.0->gmaps) (0.2.5)\n",
      "Collecting notebook>=4.4.1\n",
      "  Using cached notebook-6.4.12-py3-none-any.whl (9.9 MB)\n",
      "Requirement already satisfied: jupyter-core>=4.9.2 in c:\\users\\sandra\\appdata\\local\\programs\\python\\python37\\lib\\site-packages (from jupyter-client>=6.1.12->ipykernel>=4.5.1->ipywidgets>=7.0.0->gmaps) (4.10.0)\n",
      "Requirement already satisfied: entrypoints in c:\\users\\sandra\\appdata\\local\\programs\\python\\python37\\lib\\site-packages (from jupyter-client>=6.1.12->ipykernel>=4.5.1->ipywidgets>=7.0.0->gmaps) (0.4)\n",
      "Requirement already satisfied: python-dateutil>=2.8.2 in c:\\users\\sandra\\appdata\\local\\programs\\python\\python37\\lib\\site-packages (from jupyter-client>=6.1.12->ipykernel>=4.5.1->ipywidgets>=7.0.0->gmaps) (2.8.2)\n",
      "Collecting argon2-cffi\n",
      "  Using cached argon2_cffi-21.3.0-py3-none-any.whl (14 kB)\n",
      "Collecting nbformat\n",
      "  Using cached nbformat-5.4.0-py3-none-any.whl (73 kB)\n",
      "Collecting prometheus-client\n",
      "  Using cached prometheus_client-0.14.1-py3-none-any.whl (59 kB)\n",
      "Collecting Send2Trash>=1.8.0\n",
      "  Using cached Send2Trash-1.8.0-py3-none-any.whl (18 kB)\n",
      "Collecting terminado>=0.8.3\n",
      "  Using cached terminado-0.15.0-py3-none-any.whl (16 kB)\n",
      "Collecting nbconvert>=5\n",
      "  Using cached nbconvert-6.5.0-py3-none-any.whl (561 kB)\n",
      "Collecting jinja2\n",
      "  Using cached Jinja2-3.1.2-py3-none-any.whl (133 kB)\n",
      "Requirement already satisfied: pyparsing!=3.0.5,>=2.0.2 in c:\\users\\sandra\\appdata\\local\\programs\\python\\python37\\lib\\site-packages (from packaging->ipykernel>=4.5.1->ipywidgets>=7.0.0->gmaps) (3.0.9)\n",
      "Requirement already satisfied: pywin32>=1.0 in c:\\users\\sandra\\appdata\\local\\programs\\python\\python37\\lib\\site-packages (from jupyter-core>=4.9.2->jupyter-client>=6.1.12->ipykernel>=4.5.1->ipywidgets>=7.0.0->gmaps) (304)\n",
      "Collecting tinycss2\n",
      "  Using cached tinycss2-1.1.1-py3-none-any.whl (21 kB)\n",
      "Collecting nbclient>=0.5.0\n",
      "  Using cached nbclient-0.6.6-py3-none-any.whl (71 kB)\n",
      "Collecting pandocfilters>=1.4.1\n",
      "  Using cached pandocfilters-1.5.0-py2.py3-none-any.whl (8.7 kB)\n",
      "Collecting mistune<2,>=0.8.1\n",
      "  Using cached mistune-0.8.4-py2.py3-none-any.whl (16 kB)\n",
      "Collecting MarkupSafe>=2.0\n",
      "  Downloading MarkupSafe-2.1.1-cp37-cp37m-win_amd64.whl (17 kB)\n",
      "Collecting beautifulsoup4\n",
      "  Using cached beautifulsoup4-4.11.1-py3-none-any.whl (128 kB)\n",
      "Collecting jupyterlab-pygments\n",
      "  Using cached jupyterlab_pygments-0.2.2-py2.py3-none-any.whl (21 kB)\n",
      "Collecting bleach\n",
      "  Using cached bleach-5.0.1-py3-none-any.whl (160 kB)\n",
      "Collecting defusedxml\n",
      "  Using cached defusedxml-0.7.1-py2.py3-none-any.whl (25 kB)\n",
      "Collecting jsonschema>=2.6\n",
      "  Downloading jsonschema-4.7.2-py3-none-any.whl (81 kB)\n",
      "     ---------------------------------------- 81.1/81.1 kB 4.7 MB/s eta 0:00:00\n",
      "Collecting fastjsonschema\n",
      "  Using cached fastjsonschema-2.15.3-py3-none-any.whl (22 kB)\n",
      "Collecting pywinpty>=1.1.0\n",
      "  Downloading pywinpty-2.0.6-cp37-none-win_amd64.whl (1.4 MB)\n",
      "     ---------------------------------------- 1.4/1.4 MB 2.8 MB/s eta 0:00:00\n",
      "Requirement already satisfied: typing-extensions in c:\\users\\sandra\\appdata\\local\\programs\\python\\python37\\lib\\site-packages (from argon2-cffi->notebook>=4.4.1->widgetsnbextension~=3.6.0->ipywidgets>=7.0.0->gmaps) (4.3.0)\n",
      "Collecting argon2-cffi-bindings\n",
      "  Using cached argon2_cffi_bindings-21.2.0-cp36-abi3-win_amd64.whl (30 kB)\n",
      "Collecting importlib-metadata\n",
      "  Downloading importlib_metadata-4.12.0-py3-none-any.whl (21 kB)\n",
      "Collecting pyrsistent!=0.17.0,!=0.17.1,!=0.17.2,>=0.14.0\n",
      "  Downloading pyrsistent-0.18.1-cp37-cp37m-win_amd64.whl (61 kB)\n",
      "     ---------------------------------------- 61.6/61.6 kB ? eta 0:00:00\n",
      "Collecting importlib-resources>=1.4.0\n",
      "  Downloading importlib_resources-5.8.0-py3-none-any.whl (28 kB)\n",
      "Collecting attrs>=17.4.0\n",
      "  Using cached attrs-21.4.0-py2.py3-none-any.whl (60 kB)\n",
      "Collecting cffi>=1.0.1\n",
      "  Downloading cffi-1.15.1-cp37-cp37m-win_amd64.whl (179 kB)\n",
      "     -------------------------------------- 179.3/179.3 kB 5.3 MB/s eta 0:00:00\n",
      "Collecting soupsieve>1.2\n",
      "  Using cached soupsieve-2.3.2.post1-py3-none-any.whl (37 kB)\n",
      "Collecting webencodings\n",
      "  Using cached webencodings-0.5.1-py2.py3-none-any.whl (11 kB)\n",
      "Collecting pycparser\n",
      "  Using cached pycparser-2.21-py2.py3-none-any.whl (118 kB)\n",
      "Collecting zipp>=3.1.0\n",
      "  Downloading zipp-3.8.1-py3-none-any.whl (5.6 kB)\n",
      "Using legacy 'setup.py install' for gmaps, since package 'wheel' is not installed.\n",
      "Installing collected packages: webencodings, Send2Trash, mistune, ipython-genutils, geojson, fastjsonschema, zipp, tinycss2, soupsieve, pywinpty, pyrsistent, pycparser, prometheus-client, pandocfilters, MarkupSafe, jupyterlab-widgets, jupyterlab-pygments, defusedxml, bleach, attrs, terminado, jinja2, importlib-resources, importlib-metadata, cffi, beautifulsoup4, jsonschema, argon2-cffi-bindings, nbformat, argon2-cffi, nbclient, nbconvert, notebook, widgetsnbextension, ipywidgets, gmaps\n",
      "  Running setup.py install for gmaps: started\n",
      "  Running setup.py install for gmaps: finished with status 'done'\n",
      "Successfully installed MarkupSafe-2.1.1 Send2Trash-1.8.0 argon2-cffi-21.3.0 argon2-cffi-bindings-21.2.0 attrs-21.4.0 beautifulsoup4-4.11.1 bleach-5.0.1 cffi-1.15.1 defusedxml-0.7.1 fastjsonschema-2.15.3 geojson-2.5.0 gmaps-0.9.0 importlib-metadata-4.12.0 importlib-resources-5.8.0 ipython-genutils-0.2.0 ipywidgets-7.7.1 jinja2-3.1.2 jsonschema-4.7.2 jupyterlab-pygments-0.2.2 jupyterlab-widgets-1.1.1 mistune-0.8.4 nbclient-0.6.6 nbconvert-6.5.0 nbformat-5.4.0 notebook-6.4.12 pandocfilters-1.5.0 prometheus-client-0.14.1 pycparser-2.21 pyrsistent-0.18.1 pywinpty-2.0.6 soupsieve-2.3.2.post1 terminado-0.15.0 tinycss2-1.1.1 webencodings-0.5.1 widgetsnbextension-3.6.1 zipp-3.8.1\n",
      "Note: you may need to restart the kernel to use updated packages.\n"
     ]
    }
   ],
   "source": [
    "pip install gmaps"
   ]
  },
  {
   "cell_type": "code",
   "execution_count": 7,
   "id": "807bb1d2",
   "metadata": {},
   "outputs": [],
   "source": [
    "# Create code to answer each of the following questions.\n",
    "# Hint: You will need multiple target URLs and multiple API requests.\n",
    "\n",
    "# Dependencies\n",
    "import requests\n",
    "import json\n",
    "\n",
    "# Retrieve Google API key from config.py"
   ]
  },
  {
   "cell_type": "code",
   "execution_count": null,
   "id": "74666745",
   "metadata": {},
   "outputs": [],
   "source": [
    "# 1. What are the geocoordinates (latitude/longitude) of Seattle, Washington?"
   ]
  },
  {
   "cell_type": "code",
   "execution_count": null,
   "id": "0b0e07f7",
   "metadata": {},
   "outputs": [],
   "source": [
    "# 2. What are the geocoordinates (latitude/longitude) of The White House?"
   ]
  },
  {
   "cell_type": "code",
   "execution_count": null,
   "id": "73f9a3af",
   "metadata": {},
   "outputs": [],
   "source": [
    "# 3. Find the name and address of a bike store in Seattle, Washington.\n",
    "#    Hint: See https://developers.google.com/places/web-service/supported_types"
   ]
  },
  {
   "cell_type": "code",
   "execution_count": null,
   "id": "5902b1ef",
   "metadata": {},
   "outputs": [],
   "source": [
    "# 4. Find a balloon store near the White House."
   ]
  },
  {
   "cell_type": "code",
   "execution_count": null,
   "id": "a3474593",
   "metadata": {},
   "outputs": [],
   "source": [
    "# 5. Find the nearest dentist to your house.\n",
    "#    Hint: Use Google Maps to find your latitude and Google Places to find the\n",
    "#    dentist. You will also need the rankby property."
   ]
  },
  {
   "cell_type": "code",
   "execution_count": null,
   "id": "ade5d5c5",
   "metadata": {},
   "outputs": [],
   "source": []
  }
 ],
 "metadata": {
  "kernelspec": {
   "display_name": "PythonData",
   "language": "python",
   "name": "pythondata"
  },
  "language_info": {
   "codemirror_mode": {
    "name": "ipython",
    "version": 3
   },
   "file_extension": ".py",
   "mimetype": "text/x-python",
   "name": "python",
   "nbconvert_exporter": "python",
   "pygments_lexer": "ipython3",
   "version": "3.7.6"
  }
 },
 "nbformat": 4,
 "nbformat_minor": 5
}
