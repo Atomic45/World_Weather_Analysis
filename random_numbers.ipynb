{
 "cells": [
  {
   "cell_type": "code",
   "execution_count": 2,
   "id": "6e3ba769",
   "metadata": {},
   "outputs": [],
   "source": [
    "# Import the random module.\n",
    "import random\n"
   ]
  },
  {
   "cell_type": "code",
   "execution_count": null,
   "id": "20bd6280",
   "metadata": {},
   "outputs": [],
   "source": [
    "# 6.1.4 random.randint(),random(), randrange(), uniform()"
   ]
  },
  {
   "cell_type": "code",
   "execution_count": 4,
   "id": "1570e1f5",
   "metadata": {},
   "outputs": [
    {
     "data": {
      "text/plain": [
       "-4"
      ]
     },
     "execution_count": 4,
     "metadata": {},
     "output_type": "execute_result"
    }
   ],
   "source": [
    "# random.randint()\n",
    "random.randint(-90, 90)"
   ]
  },
  {
   "cell_type": "code",
   "execution_count": 7,
   "id": "55e071a5",
   "metadata": {},
   "outputs": [
    {
     "data": {
      "text/plain": [
       "0.8379567874680562"
      ]
     },
     "execution_count": 7,
     "metadata": {},
     "output_type": "execute_result"
    }
   ],
   "source": [
    "random.random()"
   ]
  },
  {
   "cell_type": "code",
   "execution_count": 8,
   "id": "e7048294",
   "metadata": {},
   "outputs": [
    {
     "data": {
      "text/plain": [
       "35.632877326971865"
      ]
     },
     "execution_count": 8,
     "metadata": {},
     "output_type": "execute_result"
    }
   ],
   "source": [
    "random_number = random.randint(-90, 89) + random.random()\n",
    "random_number"
   ]
  },
  {
   "cell_type": "code",
   "execution_count": 10,
   "id": "03608f3c",
   "metadata": {},
   "outputs": [
    {
     "data": {
      "text/plain": [
       "[-79.9712316487918,\n",
       " -62.76116824303956,\n",
       " 38.02993805724916,\n",
       " -16.139373866114056,\n",
       " -66.4583684453275,\n",
       " 23.006249632589157,\n",
       " -10.950235954950836,\n",
       " -14.37295695905047,\n",
       " -88.86755604590725,\n",
       " -52.24267868958242]"
      ]
     },
     "execution_count": 10,
     "metadata": {},
     "output_type": "execute_result"
    }
   ],
   "source": [
    "# Using random.randint() and random.random\n",
    "x = 1\n",
    "latitudes = []\n",
    "while x < 11:\n",
    "    random_lat = random.randint(-90, 89) + random.random()\n",
    "    latitudes.append(random_lat)\n",
    "    x += 1\n",
    "latitudes"
   ]
  },
  {
   "cell_type": "code",
   "execution_count": 11,
   "id": "88f28ca9",
   "metadata": {},
   "outputs": [
    {
     "data": {
      "text/plain": [
       "-32"
      ]
     },
     "execution_count": 11,
     "metadata": {},
     "output_type": "execute_result"
    }
   ],
   "source": [
    "# random.randrange(lower limit, upper limit, step)\n",
    "random.randrange(-90, 90, step=1)"
   ]
  },
  {
   "cell_type": "code",
   "execution_count": 13,
   "id": "3a4b7209",
   "metadata": {},
   "outputs": [
    {
     "data": {
      "text/plain": [
       "63"
      ]
     },
     "execution_count": 13,
     "metadata": {},
     "output_type": "execute_result"
    }
   ],
   "source": [
    "random.randrange(-90, 90, step=3)"
   ]
  },
  {
   "cell_type": "code",
   "execution_count": 14,
   "id": "cac15a1b",
   "metadata": {},
   "outputs": [
    {
     "data": {
      "text/plain": [
       "-4.213020932266289"
      ]
     },
     "execution_count": 14,
     "metadata": {},
     "output_type": "execute_result"
    }
   ],
   "source": [
    "# the uniform() function\n",
    "random.uniform(-90, 90)"
   ]
  },
  {
   "cell_type": "code",
   "execution_count": 15,
   "id": "898cb68a",
   "metadata": {},
   "outputs": [],
   "source": [
    "# Import the NumPy module.\n",
    "import numpy as np"
   ]
  },
  {
   "cell_type": "code",
   "execution_count": 16,
   "id": "989142dd",
   "metadata": {},
   "outputs": [
    {
     "data": {
      "text/plain": [
       "23.97685790428899"
      ]
     },
     "execution_count": 16,
     "metadata": {},
     "output_type": "execute_result"
    }
   ],
   "source": [
    "np.random.uniform(-90.00, 90.000)"
   ]
  },
  {
   "cell_type": "code",
   "execution_count": 17,
   "id": "7ce12dce",
   "metadata": {},
   "outputs": [
    {
     "data": {
      "text/plain": [
       "25.58435640047317"
      ]
     },
     "execution_count": 17,
     "metadata": {},
     "output_type": "execute_result"
    }
   ],
   "source": [
    "# write the parameters\n",
    "np.random.uniform(low=-90, high=90)"
   ]
  },
  {
   "cell_type": "code",
   "execution_count": 18,
   "id": "a1159880",
   "metadata": {},
   "outputs": [
    {
     "data": {
      "text/plain": [
       "array([ 86.57590932, -25.9596153 , -54.41151408, -10.16503827,\n",
       "       -60.29511134,  68.31649032,  59.23490075,  24.14084701,\n",
       "       -66.42578186, -57.41378848,  46.98476429,  22.18785249,\n",
       "        52.87792555,  15.95245879,  10.87448088,  17.52715118,\n",
       "        70.74668997, -89.8379721 ,   5.59517734, -80.4415904 ,\n",
       "       -54.87829032,   9.56103339, -42.06896538,  20.73709902,\n",
       "         8.13313543,  54.28498097, -35.5680478 ,  31.41176467,\n",
       "        19.69443952,  31.75063584,  81.95366037,  -9.66533561,\n",
       "        -8.67016523, -59.66479126, -59.32675818, -87.53897089,\n",
       "        82.59375829, -78.59564116,  73.90060893,  26.65804717,\n",
       "       -18.3260901 ,  -7.44645646, -19.26149248,   4.3771718 ,\n",
       "        74.48046997,  22.84483413, -22.48702908,  81.36538762,\n",
       "        84.94375958, -59.99682149])"
      ]
     },
     "execution_count": 18,
     "metadata": {},
     "output_type": "execute_result"
    }
   ],
   "source": [
    "# add the size parameter\n",
    "np.random.uniform(-90.000, 90.000, size=50)"
   ]
  },
  {
   "cell_type": "code",
   "execution_count": 19,
   "id": "5cf0e096",
   "metadata": {},
   "outputs": [],
   "source": [
    "# Ipmort timeit. \n",
    "import timeit"
   ]
  },
  {
   "cell_type": "code",
   "execution_count": 20,
   "id": "0220a6d0",
   "metadata": {},
   "outputs": [
    {
     "name": "stdout",
     "output_type": "stream",
     "text": [
      "9.54 µs ± 147 ns per loop (mean ± std. dev. of 7 runs, 100000 loops each)\n"
     ]
    }
   ],
   "source": [
    "%timeit np.random.uniform(-90.000, 90.000, size=1500)"
   ]
  },
  {
   "cell_type": "code",
   "execution_count": 22,
   "id": "9b005d4c",
   "metadata": {},
   "outputs": [
    {
     "name": "stdout",
     "output_type": "stream",
     "text": [
      "1.45 ms ± 11.6 µs per loop (mean ± std. dev. of 7 runs, 1000 loops each)\n"
     ]
    }
   ],
   "source": [
    "def latitudes(size):\n",
    "    latitudes = []\n",
    "    x = 0\n",
    "    while x < (size):\n",
    "        random_lat = random.randint(-90, 90) + random.random()\n",
    "        latitudes.append(random_lat)\n",
    "        x += 1\n",
    "    return latitudes\n",
    "\n",
    "# Call the function with 1500.\n",
    "%timeit latitudes(1500)"
   ]
  },
  {
   "cell_type": "code",
   "execution_count": null,
   "id": "078404af",
   "metadata": {},
   "outputs": [],
   "source": []
  },
  {
   "cell_type": "code",
   "execution_count": null,
   "id": "6b30f196",
   "metadata": {},
   "outputs": [],
   "source": []
  },
  {
   "cell_type": "code",
   "execution_count": null,
   "id": "7e3afd4c",
   "metadata": {},
   "outputs": [],
   "source": []
  }
 ],
 "metadata": {
  "kernelspec": {
   "display_name": "PythonData",
   "language": "python",
   "name": "pythondata"
  },
  "language_info": {
   "codemirror_mode": {
    "name": "ipython",
    "version": 3
   },
   "file_extension": ".py",
   "mimetype": "text/x-python",
   "name": "python",
   "nbconvert_exporter": "python",
   "pygments_lexer": "ipython3",
   "version": "3.7.6"
  }
 },
 "nbformat": 4,
 "nbformat_minor": 5
}
