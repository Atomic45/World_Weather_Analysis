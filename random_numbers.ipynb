{
 "cells": [
  {
   "cell_type": "code",
   "execution_count": 3,
   "id": "6e3ba769",
   "metadata": {},
   "outputs": [],
   "source": [
    "# Import the random module.\n",
    "import random"
   ]
  },
  {
   "cell_type": "code",
   "execution_count": 4,
   "id": "20bd6280",
   "metadata": {},
   "outputs": [],
   "source": [
    "# 6.1.4 random.randint(),random(), randrange(), uniform()"
   ]
  },
  {
   "cell_type": "code",
   "execution_count": 5,
   "id": "1570e1f5",
   "metadata": {},
   "outputs": [
    {
     "data": {
      "text/plain": [
       "-27"
      ]
     },
     "execution_count": 5,
     "metadata": {},
     "output_type": "execute_result"
    }
   ],
   "source": [
    "# random.randint()\n",
    "random.randint(-90, 90)"
   ]
  },
  {
   "cell_type": "code",
   "execution_count": 6,
   "id": "55e071a5",
   "metadata": {},
   "outputs": [
    {
     "data": {
      "text/plain": [
       "0.8088527496516479"
      ]
     },
     "execution_count": 6,
     "metadata": {},
     "output_type": "execute_result"
    }
   ],
   "source": [
    "random.random()"
   ]
  },
  {
   "cell_type": "code",
   "execution_count": 7,
   "id": "e7048294",
   "metadata": {},
   "outputs": [
    {
     "data": {
      "text/plain": [
       "62.05281179866621"
      ]
     },
     "execution_count": 7,
     "metadata": {},
     "output_type": "execute_result"
    }
   ],
   "source": [
    "random_number = random.randint(-90, 89) + random.random()\n",
    "random_number"
   ]
  },
  {
   "cell_type": "code",
   "execution_count": 8,
   "id": "03608f3c",
   "metadata": {},
   "outputs": [
    {
     "data": {
      "text/plain": [
       "[-31.838413502774166,\n",
       " 76.08277325949273,\n",
       " 27.57392894065407,\n",
       " -72.64499786692377,\n",
       " 73.35190438633755,\n",
       " -37.245628006299135,\n",
       " 82.2332433831001,\n",
       " -70.23959982335622,\n",
       " -24.051380389156403,\n",
       " -36.73587284549646]"
      ]
     },
     "execution_count": 8,
     "metadata": {},
     "output_type": "execute_result"
    }
   ],
   "source": [
    "# Using random.randint() and random.random\n",
    "x = 1\n",
    "latitudes = []\n",
    "while x < 11:\n",
    "    random_lat = random.randint(-90, 89) + random.random()\n",
    "    latitudes.append(random_lat)\n",
    "    x += 1\n",
    "latitudes"
   ]
  },
  {
   "cell_type": "code",
   "execution_count": 9,
   "id": "88f28ca9",
   "metadata": {},
   "outputs": [
    {
     "data": {
      "text/plain": [
       "46"
      ]
     },
     "execution_count": 9,
     "metadata": {},
     "output_type": "execute_result"
    }
   ],
   "source": [
    "# random.randrange(lower limit, upper limit, step)\n",
    "random.randrange(-90, 90, step=1)"
   ]
  },
  {
   "cell_type": "code",
   "execution_count": 10,
   "id": "3a4b7209",
   "metadata": {},
   "outputs": [
    {
     "data": {
      "text/plain": [
       "-30"
      ]
     },
     "execution_count": 10,
     "metadata": {},
     "output_type": "execute_result"
    }
   ],
   "source": [
    "random.randrange(-90, 90, step=3)"
   ]
  },
  {
   "cell_type": "code",
   "execution_count": 11,
   "id": "cac15a1b",
   "metadata": {},
   "outputs": [
    {
     "data": {
      "text/plain": [
       "-0.2426709747940663"
      ]
     },
     "execution_count": 11,
     "metadata": {},
     "output_type": "execute_result"
    }
   ],
   "source": [
    "# the uniform() function\n",
    "random.uniform(-90, 90)"
   ]
  },
  {
   "cell_type": "code",
   "execution_count": 12,
   "id": "898cb68a",
   "metadata": {},
   "outputs": [],
   "source": [
    "# Import the NumPy module.\n",
    "import numpy as np"
   ]
  },
  {
   "cell_type": "code",
   "execution_count": 13,
   "id": "989142dd",
   "metadata": {},
   "outputs": [
    {
     "data": {
      "text/plain": [
       "35.687099830194256"
      ]
     },
     "execution_count": 13,
     "metadata": {},
     "output_type": "execute_result"
    }
   ],
   "source": [
    "np.random.uniform(-90.00, 90.000)"
   ]
  },
  {
   "cell_type": "code",
   "execution_count": 14,
   "id": "7ce12dce",
   "metadata": {},
   "outputs": [
    {
     "data": {
      "text/plain": [
       "-78.22401774314721"
      ]
     },
     "execution_count": 14,
     "metadata": {},
     "output_type": "execute_result"
    }
   ],
   "source": [
    "# write the parameters\n",
    "np.random.uniform(low=-90, high=90)"
   ]
  },
  {
   "cell_type": "code",
   "execution_count": 15,
   "id": "a1159880",
   "metadata": {},
   "outputs": [
    {
     "data": {
      "text/plain": [
       "array([ 60.01157166,   7.42028198,  76.12921284,  42.47711394,\n",
       "        46.3716169 ,   4.76427038,  12.76462403, -13.89263687,\n",
       "       -85.86598076, -22.0592229 , -38.59391658, -68.51040302,\n",
       "       -46.05851559,  34.77876875, -39.66841458,  69.30300869,\n",
       "        48.08075971, -28.52430779,  28.24357798,  24.00824239,\n",
       "        32.10689638, -47.74450636, -23.14225614, -83.09990861,\n",
       "        -6.46310076,  -8.14215389, -10.1952785 ,  17.64681636,\n",
       "        -2.71670892,  56.4502948 , -12.69339396,  -7.49653933,\n",
       "        64.63509126, -55.58642691,  78.32490976,  35.79136444,\n",
       "       -58.9734031 , -75.66299909,  65.06210938,   6.23552931,\n",
       "       -61.40161681, -70.11967842,  88.01038198, -84.1590327 ,\n",
       "       -15.49698582, -15.61507377,   2.09813534,  31.93910341,\n",
       "       -33.633226  , -87.23184366])"
      ]
     },
     "execution_count": 15,
     "metadata": {},
     "output_type": "execute_result"
    }
   ],
   "source": [
    "# add the size parameter\n",
    "np.random.uniform(-90.000, 90.000, size=50)"
   ]
  },
  {
   "cell_type": "code",
   "execution_count": 16,
   "id": "5cf0e096",
   "metadata": {},
   "outputs": [],
   "source": [
    "# Ipmort timeit. \n",
    "import timeit"
   ]
  },
  {
   "cell_type": "code",
   "execution_count": 17,
   "id": "0220a6d0",
   "metadata": {},
   "outputs": [
    {
     "name": "stdout",
     "output_type": "stream",
     "text": [
      "9.55 µs ± 87 ns per loop (mean ± std. dev. of 7 runs, 100000 loops each)\n"
     ]
    }
   ],
   "source": [
    "%timeit np.random.uniform(-90.000, 90.000, size=1500)"
   ]
  },
  {
   "cell_type": "code",
   "execution_count": 18,
   "id": "9b005d4c",
   "metadata": {},
   "outputs": [
    {
     "name": "stdout",
     "output_type": "stream",
     "text": [
      "1.27 ms ± 15.9 µs per loop (mean ± std. dev. of 7 runs, 1000 loops each)\n"
     ]
    }
   ],
   "source": [
    "def latitudes(size):\n",
    "    latitudes = []\n",
    "    x = 0\n",
    "    while x < (size):\n",
    "        random_lat = random.randint(-90, 90) + random.random()\n",
    "        latitudes.append(random_lat)\n",
    "        x += 1\n",
    "    return latitudes\n",
    "\n",
    "# Call the function with 1500.\n",
    "%timeit latitudes(1500)"
   ]
  },
  {
   "cell_type": "code",
   "execution_count": null,
   "id": "7e3afd4c",
   "metadata": {},
   "outputs": [],
   "source": []
  }
 ],
 "metadata": {
  "kernelspec": {
   "display_name": "PythonData",
   "language": "python",
   "name": "pythondata"
  },
  "language_info": {
   "codemirror_mode": {
    "name": "ipython",
    "version": 3
   },
   "file_extension": ".py",
   "mimetype": "text/x-python",
   "name": "python",
   "nbconvert_exporter": "python",
   "pygments_lexer": "ipython3",
   "version": "3.7.6"
  }
 },
 "nbformat": 4,
 "nbformat_minor": 5
}
